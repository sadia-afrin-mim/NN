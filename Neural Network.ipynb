{
  "nbformat": 4,
  "nbformat_minor": 0,
  "metadata": {
    "colab": {
      "name": "Untitled1.ipynb",
      "provenance": [],
      "toc_visible": true,
      "authorship_tag": "ABX9TyM2dQSk5UWzwAvf/cIIQDWs",
      "include_colab_link": true
    },
    "kernelspec": {
      "name": "python3",
      "display_name": "Python 3"
    },
    "language_info": {
      "name": "python"
    }
  },
  "cells": [
    {
      "cell_type": "markdown",
      "metadata": {
        "id": "view-in-github",
        "colab_type": "text"
      },
      "source": [
        "<a href=\"https://colab.research.google.com/github/sadia-afrin-mim/NN/blob/main/Neural%20Network.ipynb\" target=\"_parent\"><img src=\"https://colab.research.google.com/assets/colab-badge.svg\" alt=\"Open In Colab\"/></a>"
      ]
    },
    {
      "cell_type": "code",
      "execution_count": 1,
      "metadata": {
        "colab": {
          "base_uri": "https://localhost:8080/",
          "height": 317
        },
        "id": "zil-r3WRMFot",
        "outputId": "0ce334d7-0d73-4b35-fd10-309ae2b99c1d"
      },
      "outputs": [
        {
          "output_type": "stream",
          "name": "stdout",
          "text": [
            "enter a value\n",
            "106\n",
            "The value that the image contain is:  4\n"
          ]
        },
        {
          "output_type": "display_data",
          "data": {
            "text/plain": [
              "<Figure size 432x288 with 1 Axes>"
            ],
            "image/png": "[encoded data removed]"
          },
          "metadata": {
            "needs_background": "light"
          }
        }
      ],
      "source": [
        "import numpy as np\n",
        "import pandas as pd\n",
        "from matplotlib import pyplot as plt\n",
        "\n",
        "dataSet = pd.read_csv('/content/trainingData.csv')\n",
        "ModifiedData = np.array(dataSet)\n",
        "np.random.shuffle(ModifiedData) # shuffle before splitting into dev and training sets\n",
        "dim1, dim2 = ModifiedData.shape\n",
        "devi_data = ModifiedData[0:1000].T\n",
        "X_Axis_deviation = devi_data[1:dim2]\n",
        "Y_Axis_deviation = devi_data[0]\n",
        "lim =255\n",
        "X_Axis_deviation = X_Axis_deviation / lim\n",
        "\n",
        "data_train = ModifiedData[1000:dim1].T\n",
        "y_axis_training = data_train[0]\n",
        "x_axis_training = data_train[1:dim2]\n",
        "x_axis_training = x_axis_training / lim\n",
        "_, dim1_train = x_axis_training.shape\n",
        "y_axis_training\n",
        "\n",
        "def forwardPropagation(W1, b1, W2, b2, X):\n",
        "    Z1 = W1.dot(X) + b1\n",
        "    maxVal = np.maximum(Z1, 0)\n",
        "    Z2 = W2.dot(maxVal) + b2\n",
        "    sumVal = np.exp(Z2) / sum(np.exp(Z2))\n",
        "    return Z1, maxVal, Z2, sumVal\n",
        "\n",
        "def backwardPropagation(Z1, t1, Z2, t2, W1, W2, X, Y):\n",
        "    Y_Val = np.zeros((Y.size, Y.max() + 1))\n",
        "    Y_Val[np.arange(Y.size), Y] = 1\n",
        "    Y_Val = Y_Val.T\n",
        "    Dz = t2 - Y_Val\n",
        "    Dw = 1 / dim1 * Dz.dot(t1.T)\n",
        "    Db = 1 / dim1 * np.sum(Dz)\n",
        "    checker = Z1>0\n",
        "    Z_dev1 = W2.T.dot(Dz) * checker\n",
        "    weightDev = 1 / dim1 * Z_dev1.dot(X.T)\n",
        "    db1 = 1 / dim1 * np.sum(Z_dev1)\n",
        "    return weightDev, db1, Dw, Db\n",
        "\n",
        "def accuracyFunc(pred, X):\n",
        "    n = X.size\n",
        "    return np.sum(pred == X) / n\n",
        "\n",
        "def gradDec(X, Y, rewardFactor, itrLim):\n",
        "    rate = 0.5\n",
        "    dec = 10\n",
        "    param1= 784\n",
        "    W1 = np.random.rand(dec, param1) - rate\n",
        "    param2 =1\n",
        "    b1 = np.random.rand(dec, param2) - rate\n",
        "    W2 = np.random.rand(dec, dec) - rate\n",
        "    b2 = np.random.rand(dec,param2) - rate\n",
        "\n",
        "    for itr in range(itrLim):\n",
        "        Z1, A1, Z2, A2 = forwardPropagation(W1, b1, W2, b2, X)\n",
        "        dW1, db1, dW2, db2 = backwardPropagation(Z1, A1, Z2, A2, W1, W2, X, Y)\n",
        "        W1 = W1 - rewardFactor * dW1\n",
        "        b1 = b1 - rewardFactor * db1\n",
        "        W2 = W2 - rewardFactor * dW2\n",
        "        b2 = b2 - rewardFactor * db2\n",
        "    return W1, b1, W2, b2\n",
        "misc = 0.10\n",
        "n= 500\n",
        "W1, b1, W2, b2 = gradDec(x_axis_training, y_axis_training, misc, n)\n",
        "\n",
        "\n",
        "def predictionFunction(X, W1, b1, W2, b2):\n",
        "    _, _, _, A2 = forwardPropagation(W1, b1, W2, b2, X)\n",
        "    predictVal = np.argmax(A2, 0)\n",
        "    return predictVal\n",
        "\n",
        "\n",
        "def main_pred_func(point, W1, b1, W2, b2):\n",
        "    dim =28\n",
        "    current_image = x_axis_training[:, point, None]\n",
        "    prediction = predictionFunction(x_axis_training[:, point, None], W1, b1, W2, b2)\n",
        "    label = y_axis_training[point]\n",
        "    \n",
        "    print(\"The value that the image contain is: \", label)\n",
        "\n",
        "    sample_img = x_axis_training[:, point, None]\n",
        "    sample_img = sample_img.reshape((dim,dim)) * lim\n",
        "    plt.gray()\n",
        "    plt.imshow(sample_img, interpolation='nearest')\n",
        "    plt.show()\n",
        "    predDeviation = predictionFunction(X_Axis_deviation, W1, b1, W2, b2)\n",
        "    accuracyFunc(predDeviation, Y_Axis_deviation)\n",
        "\n",
        "print(\"enter a value\")\n",
        "value = input()\n",
        "ult_val = int(value)\n",
        "main_pred_func(ult_val, W1, b1, W2, b2)"
      ]
    }
  ]
}